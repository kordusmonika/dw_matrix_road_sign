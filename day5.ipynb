{
  "nbformat": 4,
  "nbformat_minor": 0,
  "metadata": {
    "colab": {
      "name": "day5.ipynb",
      "provenance": [],
      "collapsed_sections": [],
      "mount_file_id": "1XuV98sgWA9ulhHRMgGtuGzPR_PpLh_Nl",
      "authorship_tag": "ABX9TyMTycIkUVKJcNY5ZhkwdBn0",
      "include_colab_link": true
    },
    "kernelspec": {
      "name": "python3",
      "display_name": "Python 3"
    },
    "accelerator": "GPU"
  },
  "cells": [
    {
      "cell_type": "markdown",
      "metadata": {
        "id": "view-in-github",
        "colab_type": "text"
      },
      "source": [
        "<a href=\"https://colab.research.google.com/github/kordusmonika/dw_matrix_road_sign/blob/master/day5.ipynb\" target=\"_parent\"><img src=\"https://colab.research.google.com/assets/colab-badge.svg\" alt=\"Open In Colab\"/></a>"
      ]
    },
    {
      "cell_type": "code",
      "metadata": {
        "id": "bU13JAqmF8KK",
        "colab_type": "code",
        "colab": {}
      },
      "source": [
        "!pip install hyperopt"
      ],
      "execution_count": 0,
      "outputs": []
    },
    {
      "cell_type": "code",
      "metadata": {
        "id": "qP9x1d5KGWSv",
        "colab_type": "code",
        "colab": {
          "base_uri": "https://localhost:8080/",
          "height": 51
        },
        "outputId": "afbf57f5-8990-4843-eb8d-4816632bf65b"
      },
      "source": [
        "import pandas as pd\n",
        "import numpy as np\n",
        "\n",
        "import os\n",
        "import datetime\n",
        "\n",
        "import tensorflow as tf\n",
        "from tensorflow.keras.models import Sequential\n",
        "from tensorflow.keras.layers import Conv2D, MaxPool2D, Dense, Flatten, Dropout\n",
        "from tensorflow.keras.utils import to_categorical\n",
        "from sklearn.metrics import accuracy_score\n",
        "\n",
        "\n",
        "%load_ext tensorboard\n",
        "\n",
        "import matplotlib.pyplot as plt\n",
        "from skimage import color, exposure\n",
        "\n",
        "from hyperopt import hp, STATUS_OK, tpe, Trials, fmin"
      ],
      "execution_count": 16,
      "outputs": [
        {
          "output_type": "stream",
          "text": [
            "The tensorboard extension is already loaded. To reload it, use:\n",
            "  %reload_ext tensorboard\n"
          ],
          "name": "stdout"
        }
      ]
    },
    {
      "cell_type": "code",
      "metadata": {
        "id": "Kh0pgW5BG5O0",
        "colab_type": "code",
        "colab": {
          "base_uri": "https://localhost:8080/",
          "height": 34
        },
        "outputId": "a6fe5f46-8cb6-4690-abf6-f59eccbed5cb"
      },
      "source": [
        "cd /content/drive/My Drive/Colab Notebooks/dataworkshop_matrix/dw_matrix_road_sign/dw_matrix_road_sign/data \n"
      ],
      "execution_count": 3,
      "outputs": [
        {
          "output_type": "stream",
          "text": [
            "/content/drive/My Drive/Colab Notebooks/dataworkshop_matrix/dw_matrix_road_sign/dw_matrix_road_sign/data\n"
          ],
          "name": "stdout"
        }
      ]
    },
    {
      "cell_type": "code",
      "metadata": {
        "id": "hIxyoxlXG7ul",
        "colab_type": "code",
        "colab": {}
      },
      "source": [
        "train = pd.read_pickle('train.p')\n",
        "test = pd.read_pickle('test.p')\n",
        "\n",
        "X_train, y_train = train['features'], train['labels']\n",
        "X_test, y_test = test['features'], test['labels']"
      ],
      "execution_count": 0,
      "outputs": []
    },
    {
      "cell_type": "code",
      "metadata": {
        "id": "6AoTKdMcG-IB",
        "colab_type": "code",
        "colab": {}
      },
      "source": [
        "if y_train.ndim == 1: y_train = to_categorical(y_train)\n",
        "if y_test.ndim == 1: y_test = to_categorical(y_test)"
      ],
      "execution_count": 0,
      "outputs": []
    },
    {
      "cell_type": "code",
      "metadata": {
        "id": "J15dH9gbHENX",
        "colab_type": "code",
        "colab": {}
      },
      "source": [
        "input_shape = X_train.shape[1:]  #(32, 32, 3)\n",
        "num_classes = y_train.shape[1]"
      ],
      "execution_count": 0,
      "outputs": []
    },
    {
      "cell_type": "code",
      "metadata": {
        "id": "9AnTxV-oHG16",
        "colab_type": "code",
        "colab": {}
      },
      "source": [
        "def train_model(model, X_train, y_train, params_fit={}):\n",
        "  model.compile(loss='categorical_crossentropy', optimizer='Adam', metrics=['accuracy'])\n",
        "\n",
        "  logdir = os.path.join('logs', datetime.datetime.now().strftime('%Y%m%d-%H%M%S'))\n",
        "  tensorboard_callback = tf.keras.callbacks.TensorBoard(logdir, histogram_freq=1)\n",
        "\n",
        "  model.fit(\n",
        "      X_train,\n",
        "      y_train,\n",
        "      batch_size=params_fit.get('batch size', 128),\n",
        "      epochs = params_fit.get('epochs', 5),\n",
        "      verbose = params_fit.get('verbose', 1),\n",
        "      validation_data = params_fit.get('validation_data', (X_train, y_train) ),\n",
        "      callbacks= [tensorboard_callback] #visualisation\n",
        "    \n",
        "  )\n",
        "  \n",
        "  return model"
      ],
      "execution_count": 0,
      "outputs": []
    },
    {
      "cell_type": "code",
      "metadata": {
        "id": "dVDE9YLJHPZg",
        "colab_type": "code",
        "colab": {}
      },
      "source": [
        "def predict(model_trained, X_test, y_test, scoring=accuracy_score):\n",
        "\n",
        "  y_test_norm = np.argmax(y_test, axis = 1)\n",
        "\n",
        "  y_pred_prob = model_trained.predict(X_test)\n",
        "  y_pred = np.argmax( y_pred_prob, axis=1 )\n",
        "\n",
        "  return scoring(y_test_norm, y_pred)"
      ],
      "execution_count": 0,
      "outputs": []
    },
    {
      "cell_type": "code",
      "metadata": {
        "id": "qsORlOcWHTbQ",
        "colab_type": "code",
        "colab": {}
      },
      "source": [
        "def get_cnn_v5(input_shape, num_classes):\n",
        "  return Sequential([\n",
        "    Conv2D(64, kernel_size=(3,3), activation='relu', input_shape=input_shape, padding='same'),\n",
        "    Conv2D(64, kernel_size=(3,3), activation='relu'),\n",
        "    MaxPool2D(),\n",
        "    Dropout(0.3),\n",
        "\n",
        "    Conv2D(64, kernel_size=(3,3), activation='relu', padding='same'),\n",
        "    Conv2D(64, kernel_size=(3,3), activation='relu' ),\n",
        "    MaxPool2D(),\n",
        "    Dropout(0.3),\n",
        "\n",
        "    Conv2D(64, kernel_size=(3,3), activation='relu', padding='same'),\n",
        "    Conv2D(64, kernel_size=(3,3), activation='relu' ),\n",
        "    MaxPool2D(),\n",
        "    Dropout(0.3),\n",
        "\n",
        "    Flatten(),\n",
        "\n",
        "    Dense(1024, activation='relu'),\n",
        "    Dropout(0.3),\n",
        "\n",
        "    Dense(1024, activation='relu'),\n",
        "    Dropout(0.3),\n",
        "    \n",
        "    Dense(num_classes, activation='softmax'),\n",
        "\n",
        "])\n"
      ],
      "execution_count": 0,
      "outputs": []
    },
    {
      "cell_type": "code",
      "metadata": {
        "id": "9v42stigHb47",
        "colab_type": "code",
        "colab": {
          "base_uri": "https://localhost:8080/",
          "height": 207
        },
        "outputId": "531c59a5-f817-4458-d31e-9382c51e1cf1"
      },
      "source": [
        "model = get_cnn_v5(input_shape, num_classes)\n",
        "model_trained = train_model(model, X_train, y_train )"
      ],
      "execution_count": 11,
      "outputs": [
        {
          "output_type": "stream",
          "text": [
            "Epoch 1/5\n",
            "272/272 [==============================] - 9s 34ms/step - loss: 2.6124 - accuracy: 0.2717 - val_loss: 1.2522 - val_accuracy: 0.5859\n",
            "Epoch 2/5\n",
            "272/272 [==============================] - 9s 32ms/step - loss: 0.9628 - accuracy: 0.6880 - val_loss: 0.2048 - val_accuracy: 0.9373\n",
            "Epoch 3/5\n",
            "272/272 [==============================] - 9s 32ms/step - loss: 0.4012 - accuracy: 0.8788 - val_loss: 0.1093 - val_accuracy: 0.9666\n",
            "Epoch 4/5\n",
            "272/272 [==============================] - 9s 32ms/step - loss: 0.2499 - accuracy: 0.9264 - val_loss: 0.0551 - val_accuracy: 0.9836\n",
            "Epoch 5/5\n",
            "272/272 [==============================] - 9s 32ms/step - loss: 0.1787 - accuracy: 0.9470 - val_loss: 0.0470 - val_accuracy: 0.9853\n"
          ],
          "name": "stdout"
        }
      ]
    },
    {
      "cell_type": "code",
      "metadata": {
        "id": "a8Rp9Hs9ImOY",
        "colab_type": "code",
        "colab": {
          "base_uri": "https://localhost:8080/",
          "height": 51
        },
        "outputId": "20bdb036-8400-45ab-ecc9-5c9fa7f8c89a"
      },
      "source": [
        "model_trained.evaluate(X_test, y_test)"
      ],
      "execution_count": 12,
      "outputs": [
        {
          "output_type": "stream",
          "text": [
            "138/138 [==============================] - 1s 4ms/step - loss: 0.1608 - accuracy: 0.9558\n"
          ],
          "name": "stdout"
        },
        {
          "output_type": "execute_result",
          "data": {
            "text/plain": [
              "[0.16081079840660095, 0.9557822942733765]"
            ]
          },
          "metadata": {
            "tags": []
          },
          "execution_count": 12
        }
      ]
    },
    {
      "cell_type": "code",
      "metadata": {
        "id": "YOctaB3PHsnj",
        "colab_type": "code",
        "colab": {}
      },
      "source": [
        "def func_obj(params):\n",
        "  model = get_cnn_v5(input_shape, num_classes)\n",
        "  model.compile(loss='categorical_crossentropy', optimizer='Adam', metrics=['accuracy'])\n",
        "\n",
        "  model.fit(\n",
        "      X_train,\n",
        "      y_train,\n",
        "      batch_size=int(params.get('batch size', 128) ),\n",
        "      epochs = 7,\n",
        "      verbose = 0,  \n",
        "  )\n",
        "  \n",
        "  #we want out function to be minimal. Accurracy goes to 1\n",
        "  accuracy = model.evaluate(X_test, y_test )[0]\n",
        "  print(params, 'accuracy={}'.format(accuracy))\n",
        "  \n",
        "  return {'loss': -accuracy, 'status': STATUS_OK, 'model': model}"
      ],
      "execution_count": 0,
      "outputs": []
    },
    {
      "cell_type": "code",
      "metadata": {
        "id": "40TpYZWRJctK",
        "colab_type": "code",
        "colab": {
          "base_uri": "https://localhost:8080/",
          "height": 374
        },
        "outputId": "5984e975-3898-4116-cf7c-b2a790178e53"
      },
      "source": [
        "space = {\n",
        "    'batch_size': hp.quniform('batch_size', 50,200,20)\n",
        "}\n",
        "\n",
        "best = fmin(\n",
        "    func_obj,\n",
        "    space,\n",
        "    tpe.suggest,\n",
        "    1,\n",
        "    Trials()\n",
        ")"
      ],
      "execution_count": 19,
      "outputs": [
        {
          "output_type": "stream",
          "text": [
            "  1/138 [..............................]\n",
            " - ETA: 0s - loss: 0.2064 - accuracy: 0.9062\n",
            "\b\b\b\b\b\b\b\b\b\b\b\b\b\b\b\b\b\b\b\b\b\b\b\b\b\b\b\b\b\b\b\b\b\b\b\b\b\b\b\b\b\b\b\b\b\b\b\b\b\b\b\b\b\b\b\b\b\b\b\b\b\b\b\b\b\b\b\b\b\b\b\b\b\b\b\b\b\b\b\b\b\b\b\b\n",
            " 12/138 [=>............................]\n",
            " - ETA: 0s - loss: 0.1015 - accuracy: 0.9661\n",
            "\b\b\b\b\b\b\b\b\b\b\b\b\b\b\b\b\b\b\b\b\b\b\b\b\b\b\b\b\b\b\b\b\b\b\b\b\b\b\b\b\b\b\b\b\b\b\b\b\b\b\b\b\b\b\b\b\b\b\b\b\b\b\b\b\b\b\b\b\b\b\b\b\b\b\b\b\b\b\b\b\b\b\b\b\n",
            " 22/138 [===>..........................]\n",
            " - ETA: 0s - loss: 0.6731 - accuracy: 0.9304\n",
            "\b\b\b\b\b\b\b\b\b\b\b\b\b\b\b\b\b\b\b\b\b\b\b\b\b\b\b\b\b\b\b\b\b\b\b\b\b\b\b\b\b\b\b\b\b\b\b\b\b\b\b\b\b\b\b\b\b\b\b\b\b\b\b\b\b\b\b\b\b\b\b\b\b\b\b\b\b\b\b\b\b\b\b\b\n",
            " 33/138 [======>.......................]\n",
            " - ETA: 0s - loss: 0.8104 - accuracy: 0.9384\n",
            "\b\b\b\b\b\b\b\b\b\b\b\b\b\b\b\b\b\b\b\b\b\b\b\b\b\b\b\b\b\b\b\b\b\b\b\b\b\b\b\b\b\b\b\b\b\b\b\b\b\b\b\b\b\b\b\b\b\b\b\b\b\b\b\b\b\b\b\b\b\b\b\b\b\b\b\b\b\b\b\b\b\b\b\b\n",
            " 43/138 [========>.....................]\n",
            " - ETA: 0s - loss: 0.6315 - accuracy: 0.9506\n",
            "\b\b\b\b\b\b\b\b\b\b\b\b\b\b\b\b\b\b\b\b\b\b\b\b\b\b\b\b\b\b\b\b\b\b\b\b\b\b\b\b\b\b\b\b\b\b\b\b\b\b\b\b\b\b\b\b\b\b\b\b\b\b\b\b\b\b\b\b\b\b\b\b\b\b\b\b\b\b\b\b\b\b\b\b\n",
            " 51/138 [==========>...................]\n",
            " - ETA: 0s - loss: 0.5424 - accuracy: 0.9553\n",
            "\b\b\b\b\b\b\b\b\b\b\b\b\b\b\b\b\b\b\b\b\b\b\b\b\b\b\b\b\b\b\b\b\b\b\b\b\b\b\b\b\b\b\b\b\b\b\b\b\b\b\b\b\b\b\b\b\b\b\b\b\b\b\b\b\b\b\b\b\b\b\b\b\b\b\b\b\b\b\b\b\b\b\b\b\n",
            " 60/138 [============>.................]\n",
            " - ETA: 0s - loss: 0.4688 - accuracy: 0.9604\n",
            "\b\b\b\b\b\b\b\b\b\b\b\b\b\b\b\b\b\b\b\b\b\b\b\b\b\b\b\b\b\b\b\b\b\b\b\b\b\b\b\b\b\b\b\b\b\b\b\b\b\b\b\b\b\b\b\b\b\b\b\b\b\b\b\b\b\b\b\b\b\b\b\b\b\b\b\b\b\b\b\b\b\b\b\b\n",
            " 70/138 [==============>...............]\n",
            " - ETA: 0s - loss: 0.4197 - accuracy: 0.9589\n",
            "\b\b\b\b\b\b\b\b\b\b\b\b\b\b\b\b\b\b\b\b\b\b\b\b\b\b\b\b\b\b\b\b\b\b\b\b\b\b\b\b\b\b\b\b\b\b\b\b\b\b\b\b\b\b\b\b\b\b\b\b\b\b\b\b\b\b\b\b\b\b\b\b\b\b\b\b\b\b\b\b\b\b\b\b\n",
            " 79/138 [================>.............]\n",
            " - ETA: 0s - loss: 0.3719 - accuracy: 0.9636\n",
            "\b\b\b\b\b\b\b\b\b\b\b\b\b\b\b\b\b\b\b\b\b\b\b\b\b\b\b\b\b\b\b\b\b\b\b\b\b\b\b\b\b\b\b\b\b\b\b\b\b\b\b\b\b\b\b\b\b\b\b\b\b\b\b\b\b\b\b\b\b\b\b\b\b\b\b\b\b\b\b\b\b\b\b\b\n",
            " 88/138 [==================>...........]\n",
            " - ETA: 0s - loss: 0.3347 - accuracy: 0.9670\n",
            "\b\b\b\b\b\b\b\b\b\b\b\b\b\b\b\b\b\b\b\b\b\b\b\b\b\b\b\b\b\b\b\b\b\b\b\b\b\b\b\b\b\b\b\b\b\b\b\b\b\b\b\b\b\b\b\b\b\b\b\b\b\b\b\b\b\b\b\b\b\b\b\b\b\b\b\b\b\b\b\b\b\b\b\b\n",
            " 98/138 [====================>.........]\n",
            " - ETA: 0s - loss: 0.3016 - accuracy: 0.9697\n",
            "\b\b\b\b\b\b\b\b\b\b\b\b\b\b\b\b\b\b\b\b\b\b\b\b\b\b\b\b\b\b\b\b\b\b\b\b\b\b\b\b\b\b\b\b\b\b\b\b\b\b\b\b\b\b\b\b\b\b\b\b\b\b\b\b\b\b\b\b\b\b\b\b\b\b\b\b\b\b\b\b\b\b\b\b\n",
            "108/138 [======================>.......]\n",
            " - ETA: 0s - loss: 0.3001 - accuracy: 0.9656\n",
            "\b\b\b\b\b\b\b\b\b\b\b\b\b\b\b\b\b\b\b\b\b\b\b\b\b\b\b\b\b\b\b\b\b\b\b\b\b\b\b\b\b\b\b\b\b\b\b\b\b\b\b\b\b\b\b\b\b\b\b\b\b\b\b\b\b\b\b\b\b\b\b\b\b\b\b\b\b\b\b\b\b\b\b\b\n",
            "118/138 [========================>.....]\n",
            " - ETA: 0s - loss: 0.2747 - accuracy: 0.9685\n",
            "\b\b\b\b\b\b\b\b\b\b\b\b\b\b\b\b\b\b\b\b\b\b\b\b\b\b\b\b\b\b\b\b\b\b\b\b\b\b\b\b\b\b\b\b\b\b\b\b\b\b\b\b\b\b\b\b\b\b\b\b\b\b\b\b\b\b\b\b\b\b\b\b\b\b\b\b\b\b\b\b\b\b\b\b\n",
            "128/138 [==========================>...]\n",
            " - ETA: 0s - loss: 0.2540 - accuracy: 0.9709\n",
            "\b\b\b\b\b\b\b\b\b\b\b\b\b\b\b\b\b\b\b\b\b\b\b\b\b\b\b\b\b\b\b\b\b\b\b\b\b\b\b\b\b\b\b\b\b\b\b\b\b\b\b\b\b\b\b\b\b\b\b\b\b\b\b\b\b\b\b\b\b\b\b\b\b\b\b\b\b\b\b\b\b\b\b\b\n",
            "138/138 [==============================]\n",
            " - ETA: 0s - loss: 0.2361 - accuracy: 0.9730\n",
            "\b\b\b\b\b\b\b\b\b\b\b\b\b\b\b\b\b\b\b\b\b\b\b\b\b\b\b\b\b\b\b\b\b\b\b\b\b\b\b\b\b\b\b\b\b\b\b\b\b\b\b\b\b\b\b\b\b\b\b\b\b\b\b\b\b\b\b\b\b\b\b\b\b\b\b\b\b\b\b\b\b\b\b\b\n",
            "138/138 [==============================]\n",
            " - 1s 5ms/step - loss: 0.2361 - accuracy: 0.9730\n",
            "\n",
            "{'batch_size': 120.0}\n",
            "accuracy=0.2361055165529251\n",
            "100%|██████████| 1/1 [00:40<00:00, 40.01s/it, best loss: -0.2361055165529251]\n"
          ],
          "name": "stdout"
        }
      ]
    },
    {
      "cell_type": "code",
      "metadata": {
        "id": "T-JqFQnUKMiq",
        "colab_type": "code",
        "colab": {}
      },
      "source": [
        "#Make our function more dynamic - we are looking for dropouts\n",
        "\n",
        "def get_model(params):\n",
        "  return Sequential([\n",
        "    Conv2D(64, kernel_size=(3,3), activation='relu', input_shape=input_shape, padding='same'),\n",
        "    Conv2D(64, kernel_size=(3,3), activation='relu'),\n",
        "    MaxPool2D(),\n",
        "    Dropout(params['dropout_cnn_block_one']),\n",
        "\n",
        "    Conv2D(64, kernel_size=(3,3), activation='relu', padding='same'),\n",
        "    Conv2D(64, kernel_size=(3,3), activation='relu' ),\n",
        "    MaxPool2D(),\n",
        "    Dropout(params['dropout_cnn_block_two']),\n",
        "\n",
        "    Conv2D(128, kernel_size=(3,3), activation='relu', padding='same'),\n",
        "    Conv2D(128, kernel_size=(3,3), activation='relu' ),\n",
        "    MaxPool2D(),\n",
        "    Dropout(params['dropout_cnn_block_three']),\n",
        "\n",
        "    Flatten(),\n",
        "\n",
        "    Dense(1024, activation='relu'),\n",
        "    Dropout(params['dropout_dense_block_one']),\n",
        "\n",
        "    Dense(1024, activation='relu'),\n",
        "    Dropout(params['dropout_dense_block_two']),\n",
        "    \n",
        "    Dense(num_classes, activation='softmax'),\n",
        "\n",
        "])\n"
      ],
      "execution_count": 0,
      "outputs": []
    },
    {
      "cell_type": "code",
      "metadata": {
        "id": "g7FK-l7YMhwE",
        "colab_type": "code",
        "colab": {}
      },
      "source": [
        "def func_obj(params):\n",
        "  model = get_model(params)\n",
        "  model.compile(loss='categorical_crossentropy', optimizer='Adam', metrics=['accuracy'])\n",
        "\n",
        "  model.fit(\n",
        "      X_train,\n",
        "      y_train,\n",
        "      batch_size=128, #int(params.get('batch size', 128) ),\n",
        "      epochs = 5,\n",
        "      verbose = 0,  \n",
        "  )\n",
        "  \n",
        "  # function --> min. Accurracy goes to 1\n",
        "  score = model.evaluate(X_test, y_test, verbose=0)\n",
        "  accuracy = score[1]\n",
        "  print(params, 'accuracy={}'.format(accuracy))\n",
        "  \n",
        "  return {'loss': -accuracy, 'status': STATUS_OK, 'model': model}"
      ],
      "execution_count": 0,
      "outputs": []
    },
    {
      "cell_type": "code",
      "metadata": {
        "id": "pOeKjGagMkv1",
        "colab_type": "code",
        "colab": {
          "base_uri": "https://localhost:8080/",
          "height": 1000
        },
        "outputId": "c893d2e7-7f2b-48ce-c5dc-5d4773019169"
      },
      "source": [
        "space = {\n",
        "    'batch_size': hp.quniform('batch_size', 50,200,20),\n",
        "    'dropout_cnn_block_one': hp.uniform('dropout_cnn_block_one', 0.3,0.5),\n",
        "    'dropout_cnn_block_two': hp.uniform('dropout_cnn_block_two', 0.3, 0.5),\n",
        "    'dropout_cnn_block_three': hp.uniform('dropout_cnn_block_three', 0.3,0.5),\n",
        "\n",
        "    'dropout_dense_block_one': hp.uniform('dropout_dense_block_one', 0.3,0.7),\n",
        "    'dropout_dense_block_two': hp.uniform('dropout_dense_block_two', 0.3,0.7),\n",
        "\n",
        "}\n",
        "\n",
        "best = fmin(\n",
        "    func_obj,\n",
        "    space,\n",
        "    tpe.suggest,\n",
        "    30,\n",
        "    Trials()\n",
        ")"
      ],
      "execution_count": 31,
      "outputs": [
        {
          "output_type": "stream",
          "text": [
            "{'batch_size': 200.0, 'dropout_cnn_block_one': 0.4731882516575788, 'dropout_cnn_block_three': 0.45437200972185515, 'dropout_cnn_block_two': 0.41449938048309104, 'dropout_dense_block_one': 0.30007791661935107, 'dropout_dense_block_two': 0.4679861029857437}\n",
            "accuracy=0.9630385637283325\n",
            "{'batch_size': 120.0, 'dropout_cnn_block_one': 0.44622950778600123, 'dropout_cnn_block_three': 0.4424594692015976, 'dropout_cnn_block_two': 0.34979393494977085, 'dropout_dense_block_one': 0.32067633663780637, 'dropout_dense_block_two': 0.5415399633691639}\n",
            "accuracy=0.9539682269096375\n",
            "{'batch_size': 120.0, 'dropout_cnn_block_one': 0.3853293588412873, 'dropout_cnn_block_three': 0.49840758665275775, 'dropout_cnn_block_two': 0.3191401089007994, 'dropout_dense_block_one': 0.3991781933829543, 'dropout_dense_block_two': 0.6231854562884772}\n",
            "accuracy=0.9501133561134338\n",
            "{'batch_size': 100.0, 'dropout_cnn_block_one': 0.38182199928324667, 'dropout_cnn_block_three': 0.48256429256208133, 'dropout_cnn_block_two': 0.48846811639941723, 'dropout_dense_block_one': 0.4165009254438302, 'dropout_dense_block_two': 0.68403914557114}\n",
            "accuracy=0.6326530575752258\n",
            "{'batch_size': 100.0, 'dropout_cnn_block_one': 0.47098781399923373, 'dropout_cnn_block_three': 0.3406952139405104, 'dropout_cnn_block_two': 0.3559686028567109, 'dropout_dense_block_one': 0.6089360382755755, 'dropout_dense_block_two': 0.6945894936275048}\n",
            "accuracy=0.9079365134239197\n",
            "{'batch_size': 160.0, 'dropout_cnn_block_one': 0.42367634379479685, 'dropout_cnn_block_three': 0.351517591759751, 'dropout_cnn_block_two': 0.32178040273053926, 'dropout_dense_block_one': 0.5849611402025874, 'dropout_dense_block_two': 0.5914480987238301}\n",
            "accuracy=0.9832199811935425\n",
            "{'batch_size': 80.0, 'dropout_cnn_block_one': 0.436515564332598, 'dropout_cnn_block_three': 0.46479678900309546, 'dropout_cnn_block_two': 0.4616905180871621, 'dropout_dense_block_one': 0.3070418384502503, 'dropout_dense_block_two': 0.49832972598967373}\n",
            "accuracy=0.9573696255683899\n",
            "{'batch_size': 100.0, 'dropout_cnn_block_one': 0.45140632346252924, 'dropout_cnn_block_three': 0.49028847812530507, 'dropout_cnn_block_two': 0.4539605432088028, 'dropout_dense_block_one': 0.5791327027969171, 'dropout_dense_block_two': 0.43976599885370815}\n",
            "accuracy=0.7281179428100586\n",
            "{'batch_size': 120.0, 'dropout_cnn_block_one': 0.31245790842318394, 'dropout_cnn_block_three': 0.41636514408179537, 'dropout_cnn_block_two': 0.4775912246304408, 'dropout_dense_block_one': 0.37631198179503017, 'dropout_dense_block_two': 0.5296318564689608}\n",
            "accuracy=0.7918367385864258\n",
            "{'batch_size': 100.0, 'dropout_cnn_block_one': 0.4342803080716331, 'dropout_cnn_block_three': 0.33544471761638217, 'dropout_cnn_block_two': 0.36852662659934143, 'dropout_dense_block_one': 0.4556457842655734, 'dropout_dense_block_two': 0.48850304463625127}\n",
            "accuracy=0.9414966106414795\n",
            "{'batch_size': 80.0, 'dropout_cnn_block_one': 0.4576563994237243, 'dropout_cnn_block_three': 0.4519437775972619, 'dropout_cnn_block_two': 0.4687281914740231, 'dropout_dense_block_one': 0.4218348009266619, 'dropout_dense_block_two': 0.5988634638730357}\n",
            "accuracy=0.7709750533103943\n",
            "{'batch_size': 60.0, 'dropout_cnn_block_one': 0.4369532073359778, 'dropout_cnn_block_three': 0.3673492440410561, 'dropout_cnn_block_two': 0.4493244456763853, 'dropout_dense_block_one': 0.6533830296491154, 'dropout_dense_block_two': 0.6904660835002586}\n",
            "accuracy=0.6936507821083069\n",
            "{'batch_size': 160.0, 'dropout_cnn_block_one': 0.4357383148314089, 'dropout_cnn_block_three': 0.34511411743422626, 'dropout_cnn_block_two': 0.3611374786466891, 'dropout_dense_block_one': 0.4048506420958516, 'dropout_dense_block_two': 0.6265800652337479}\n",
            "accuracy=0.91700679063797\n",
            "{'batch_size': 140.0, 'dropout_cnn_block_one': 0.3900128553060379, 'dropout_cnn_block_three': 0.3024428305843179, 'dropout_cnn_block_two': 0.47943436040102705, 'dropout_dense_block_one': 0.6044755772035111, 'dropout_dense_block_two': 0.6668671303840614}\n",
            "accuracy=0.8353741765022278\n",
            "{'batch_size': 200.0, 'dropout_cnn_block_one': 0.37000433433963803, 'dropout_cnn_block_three': 0.37578039105071437, 'dropout_cnn_block_two': 0.36114116233224836, 'dropout_dense_block_one': 0.6667223083071053, 'dropout_dense_block_two': 0.5365102203723005}\n",
            "accuracy=0.9657596349716187\n",
            "{'batch_size': 100.0, 'dropout_cnn_block_one': 0.48898621593964364, 'dropout_cnn_block_three': 0.32667155500111805, 'dropout_cnn_block_two': 0.32389898341168244, 'dropout_dense_block_one': 0.37764036270709767, 'dropout_dense_block_two': 0.40330123329166956}\n",
            "accuracy=0.9551020264625549\n",
            "{'batch_size': 100.0, 'dropout_cnn_block_one': 0.4567898443144471, 'dropout_cnn_block_three': 0.44804753222062066, 'dropout_cnn_block_two': 0.42270229161651235, 'dropout_dense_block_one': 0.6765688042742998, 'dropout_dense_block_two': 0.437265902600476}\n",
            "accuracy=0.8546485304832458\n",
            "{'batch_size': 100.0, 'dropout_cnn_block_one': 0.31071997104253185, 'dropout_cnn_block_three': 0.35971952923237716, 'dropout_cnn_block_two': 0.44742131872180224, 'dropout_dense_block_one': 0.6164391501440725, 'dropout_dense_block_two': 0.4635842284674615}\n",
            "accuracy=0.9598639607429504\n",
            "{'batch_size': 180.0, 'dropout_cnn_block_one': 0.34910495167472816, 'dropout_cnn_block_three': 0.32114455285048416, 'dropout_cnn_block_two': 0.3633805743738256, 'dropout_dense_block_one': 0.3293134355739572, 'dropout_dense_block_two': 0.3626267848167893}\n",
            "accuracy=0.9723355770111084\n",
            "{'batch_size': 180.0, 'dropout_cnn_block_one': 0.3488625316481545, 'dropout_cnn_block_three': 0.380148881262646, 'dropout_cnn_block_two': 0.41933073641550744, 'dropout_dense_block_one': 0.32104137630754137, 'dropout_dense_block_two': 0.4881372593053316}\n",
            "accuracy=0.9585034251213074\n",
            "{'batch_size': 160.0, 'dropout_cnn_block_one': 0.4116897779758392, 'dropout_cnn_block_three': 0.31520471750459167, 'dropout_cnn_block_two': 0.30242666539773155, 'dropout_dense_block_one': 0.547139098043822, 'dropout_dense_block_two': 0.3169868629301783}\n",
            "accuracy=0.9557822942733765\n",
            "{'batch_size': 180.0, 'dropout_cnn_block_one': 0.3346688244409116, 'dropout_cnn_block_three': 0.3985888282637725, 'dropout_cnn_block_two': 0.38633676365441305, 'dropout_dense_block_one': 0.487826794555862, 'dropout_dense_block_two': 0.30896020810091834}\n",
            "accuracy=0.9709750413894653\n",
            "{'batch_size': 160.0, 'dropout_cnn_block_one': 0.41155657588314715, 'dropout_cnn_block_three': 0.3055901396195064, 'dropout_cnn_block_two': 0.33750716593268465, 'dropout_dense_block_one': 0.5342240212709419, 'dropout_dense_block_two': 0.3502990556826361}\n",
            "accuracy=0.9294784665107727\n",
            "{'batch_size': 180.0, 'dropout_cnn_block_one': 0.355571467241741, 'dropout_cnn_block_three': 0.39607845919475443, 'dropout_cnn_block_two': 0.3849247714259608, 'dropout_dense_block_one': 0.4966667234985741, 'dropout_dense_block_two': 0.37393285723546044}\n",
            "accuracy=0.9596371650695801\n",
            "{'batch_size': 140.0, 'dropout_cnn_block_one': 0.4083379488770643, 'dropout_cnn_block_three': 0.35530638415182847, 'dropout_cnn_block_two': 0.3037214018930735, 'dropout_dense_block_one': 0.5490273135468016, 'dropout_dense_block_two': 0.5945679129069625}\n",
            "accuracy=0.9176870584487915\n",
            "{'batch_size': 140.0, 'dropout_cnn_block_one': 0.3295284793452593, 'dropout_cnn_block_three': 0.31903999676024336, 'dropout_cnn_block_two': 0.3333851275418709, 'dropout_dense_block_one': 0.4485522590114382, 'dropout_dense_block_two': 0.5649456314733508}\n",
            "accuracy=0.9487528204917908\n",
            "{'batch_size': 200.0, 'dropout_cnn_block_one': 0.36515957726311943, 'dropout_cnn_block_three': 0.381593171540128, 'dropout_cnn_block_two': 0.3791585230420419, 'dropout_dense_block_one': 0.3550671326404231, 'dropout_dense_block_two': 0.39161420200611646}\n",
            "accuracy=0.96417236328125\n",
            "{'batch_size': 180.0, 'dropout_cnn_block_one': 0.30106677874240256, 'dropout_cnn_block_three': 0.4257077513384448, 'dropout_cnn_block_two': 0.3133008083860348, 'dropout_dense_block_one': 0.6396451948304868, 'dropout_dense_block_two': 0.6482590648183606}\n",
            "accuracy=0.9290249347686768\n",
            "{'batch_size': 200.0, 'dropout_cnn_block_one': 0.4231170715868827, 'dropout_cnn_block_three': 0.35038712279299633, 'dropout_cnn_block_two': 0.4057978640367177, 'dropout_dense_block_one': 0.5738867273968559, 'dropout_dense_block_two': 0.5701754782289472}\n",
            "accuracy=0.9702947735786438\n",
            "{'batch_size': 160.0, 'dropout_cnn_block_one': 0.3972097643914216, 'dropout_cnn_block_three': 0.3313523232523355, 'dropout_cnn_block_two': 0.3408010062807304, 'dropout_dense_block_one': 0.6997170609749445, 'dropout_dense_block_two': 0.33971959137011953}\n",
            "accuracy=0.9657596349716187\n",
            "100%|██████████| 30/30 [14:57<00:00, 29.90s/it, best loss: -0.9832199811935425]\n"
          ],
          "name": "stdout"
        }
      ]
    },
    {
      "cell_type": "markdown",
      "metadata": {
        "id": "qmENFNycWEdQ",
        "colab_type": "text"
      },
      "source": [
        "#Best loss : ~98%"
      ]
    },
    {
      "cell_type": "code",
      "metadata": {
        "id": "SH0LAa15ODOg",
        "colab_type": "code",
        "colab": {}
      },
      "source": [
        ""
      ],
      "execution_count": 0,
      "outputs": []
    },
    {
      "cell_type": "code",
      "metadata": {
        "id": "aPZ6ZF2uWHQB",
        "colab_type": "code",
        "colab": {}
      },
      "source": [
        ""
      ],
      "execution_count": 0,
      "outputs": []
    }
  ]
}