{
  "nbformat": 4,
  "nbformat_minor": 0,
  "metadata": {
    "colab": {
      "name": "day4.ipynb",
      "provenance": [],
      "collapsed_sections": [],
      "mount_file_id": "18bxxh3rvurFcmegCKAZAWxulBTExRlO_",
      "authorship_tag": "ABX9TyMRR8bGPruTuj0pu8oTPkaO",
      "include_colab_link": true
    },
    "kernelspec": {
      "name": "python3",
      "display_name": "Python 3"
    },
    "accelerator": "GPU"
  },
  "cells": [
    {
      "cell_type": "markdown",
      "metadata": {
        "id": "view-in-github",
        "colab_type": "text"
      },
      "source": [
        "<a href=\"https://colab.research.google.com/github/kordusmonika/dw_matrix_road_sign/blob/master/day4.ipynb\" target=\"_parent\"><img src=\"https://colab.research.google.com/assets/colab-badge.svg\" alt=\"Open In Colab\"/></a>"
      ]
    },
    {
      "cell_type": "markdown",
      "metadata": {
        "id": "5GIbh2KgqumK",
        "colab_type": "text"
      },
      "source": [
        "#Data Augmentation"
      ]
    },
    {
      "cell_type": "code",
      "metadata": {
        "id": "9M8ghTOKqtvh",
        "colab_type": "code",
        "colab": {
          "base_uri": "https://localhost:8080/",
          "height": 51
        },
        "outputId": "42977c87-1cbc-461f-a9bc-9f53f6a630e3"
      },
      "source": [
        "import pandas as pd\n",
        "import numpy as np\n",
        "\n",
        "import os\n",
        "import datetime\n",
        "\n",
        "import tensorflow as tf\n",
        "from tensorflow.keras.models import Sequential\n",
        "from tensorflow.keras.layers import Conv2D, MaxPool2D, Dense, Flatten, Dropout\n",
        "from tensorflow.keras.utils import to_categorical\n",
        "from sklearn.metrics import accuracy_score\n",
        "\n",
        "%load_ext tensorboard\n",
        "\n",
        "import matplotlib.pyplot as plt\n",
        "from skimage import color, exposure"
      ],
      "execution_count": 80,
      "outputs": [
        {
          "output_type": "stream",
          "text": [
            "The tensorboard extension is already loaded. To reload it, use:\n",
            "  %reload_ext tensorboard\n"
          ],
          "name": "stdout"
        }
      ]
    },
    {
      "cell_type": "code",
      "metadata": {
        "id": "N5Lt4LYRqwB4",
        "colab_type": "code",
        "colab": {
          "base_uri": "https://localhost:8080/",
          "height": 34
        },
        "outputId": "ef152ddc-1c49-4d5f-f798-296d3ade7c26"
      },
      "source": [
        "cd /content/drive/My Drive/Colab Notebooks/dataworkshop_matrix/dw_matrix_road_sign/dw_matrix_road_sign/data \n"
      ],
      "execution_count": 81,
      "outputs": [
        {
          "output_type": "stream",
          "text": [
            "/content/drive/My Drive/Colab Notebooks/dataworkshop_matrix/dw_matrix_road_sign/dw_matrix_road_sign/data\n"
          ],
          "name": "stdout"
        }
      ]
    },
    {
      "cell_type": "code",
      "metadata": {
        "id": "ObhCqA3Yq4wT",
        "colab_type": "code",
        "colab": {}
      },
      "source": [
        "train = pd.read_pickle('train.p')\n",
        "test = pd.read_pickle('test.p')\n",
        "\n",
        "X_train, y_train = train['features'], train['labels']\n",
        "X_test, y_test = test['features'], test['labels']"
      ],
      "execution_count": 0,
      "outputs": []
    },
    {
      "cell_type": "code",
      "metadata": {
        "id": "vkyBmKdzrB7K",
        "colab_type": "code",
        "colab": {}
      },
      "source": [
        "#y_train should have only one dimension, be careful not to overwrite this!\n",
        "\n",
        "if y_train.ndim == 1: y_train = to_categorical(y_train)\n",
        "if y_test.ndim == 1: y_test = to_categorical(y_test)"
      ],
      "execution_count": 0,
      "outputs": []
    },
    {
      "cell_type": "code",
      "metadata": {
        "id": "qQeTrBrjrJ5F",
        "colab_type": "code",
        "colab": {}
      },
      "source": [
        "#Basic Model"
      ],
      "execution_count": 0,
      "outputs": []
    },
    {
      "cell_type": "code",
      "metadata": {
        "id": "qliDl3oWrPMU",
        "colab_type": "code",
        "colab": {}
      },
      "source": [
        "input_shape = X_train.shape[1:]  #(32, 32, 3)\n",
        "num_classes = y_train.shape[1]"
      ],
      "execution_count": 0,
      "outputs": []
    },
    {
      "cell_type": "code",
      "metadata": {
        "id": "dC4ILb0drR5g",
        "colab_type": "code",
        "colab": {
          "base_uri": "https://localhost:8080/",
          "height": 255
        },
        "outputId": "8c5e14e1-cf2f-47f0-f500-d2a9aa2638c0"
      },
      "source": [
        "model = Sequential([\n",
        "    Conv2D(64, kernel_size=(3,3), activation='relu', input_shape=input_shape),\n",
        "\n",
        "    Flatten(),\n",
        "\n",
        "    Dense(num_classes, activation='softmax'),\n",
        "\n",
        "])\n",
        "\n",
        "model.compile(loss='categorical_crossentropy', optimizer='Adam', metrics=['accuracy'])\n",
        "model.summary()"
      ],
      "execution_count": 86,
      "outputs": [
        {
          "output_type": "stream",
          "text": [
            "Model: \"sequential_13\"\n",
            "_________________________________________________________________\n",
            "Layer (type)                 Output Shape              Param #   \n",
            "=================================================================\n",
            "conv2d_46 (Conv2D)           (None, 30, 30, 64)        1792      \n",
            "_________________________________________________________________\n",
            "flatten_13 (Flatten)         (None, 57600)             0         \n",
            "_________________________________________________________________\n",
            "dense_27 (Dense)             (None, 43)                2476843   \n",
            "=================================================================\n",
            "Total params: 2,478,635\n",
            "Trainable params: 2,478,635\n",
            "Non-trainable params: 0\n",
            "_________________________________________________________________\n"
          ],
          "name": "stdout"
        }
      ]
    },
    {
      "cell_type": "code",
      "metadata": {
        "id": "Q7xNcwlIrTxV",
        "colab_type": "code",
        "colab": {}
      },
      "source": [
        "def get_cnn_v1(input_shape, num_classes):\n",
        "  return Sequential([\n",
        "    Conv2D(64, kernel_size=(3,3), activation='relu', input_shape=input_shape),\n",
        "\n",
        "    Flatten(),\n",
        "\n",
        "    Dense(num_classes, activation='softmax'),\n",
        "\n",
        "])\n",
        "\n",
        "def train_model(model, X_train, y_train, params_fit={}):\n",
        "  model.compile(loss='categorical_crossentropy', optimizer='Adam', metrics=['accuracy'])\n",
        "\n",
        "  logdir = os.path.join('logs', datetime.datetime.now().strftime('%Y%m%d-%H%M%S'))\n",
        "  tensorboard_callback = tf.keras.callbacks.TensorBoard(logdir, histogram_freq=1)\n",
        "\n",
        "  model.fit(\n",
        "      X_train,\n",
        "      y_train,\n",
        "      batch_size=params_fit.get('batch size', 128),\n",
        "      epochs = params_fit.get('epochs', 5),\n",
        "      verbose = params_fit.get('verbose', 1),\n",
        "      validation_data = params_fit.get('validation_data', (X_train, y_train) ),\n",
        "      callbacks= [tensorboard_callback] #visualisation\n",
        "    \n",
        "  )\n",
        "  \n",
        "  return model"
      ],
      "execution_count": 0,
      "outputs": []
    },
    {
      "cell_type": "code",
      "metadata": {
        "id": "VaUBW_41rZqy",
        "colab_type": "code",
        "colab": {
          "base_uri": "https://localhost:8080/",
          "height": 207
        },
        "outputId": "33ec5067-c80d-488b-8804-bea75617553b"
      },
      "source": [
        "model = get_cnn_v1(input_shape, num_classes)\n",
        "model_trained = train_model(model, X_train, y_train )"
      ],
      "execution_count": 88,
      "outputs": [
        {
          "output_type": "stream",
          "text": [
            "Epoch 1/5\n",
            "272/272 [==============================] - 3s 9ms/step - loss: 37.5750 - accuracy: 0.7388 - val_loss: 0.1971 - val_accuracy: 0.9530\n",
            "Epoch 2/5\n",
            "272/272 [==============================] - 2s 9ms/step - loss: 0.2150 - accuracy: 0.9522 - val_loss: 0.1229 - val_accuracy: 0.9754\n",
            "Epoch 3/5\n",
            "272/272 [==============================] - 2s 9ms/step - loss: 0.1405 - accuracy: 0.9683 - val_loss: 0.1589 - val_accuracy: 0.9683\n",
            "Epoch 4/5\n",
            "272/272 [==============================] - 2s 9ms/step - loss: 0.1361 - accuracy: 0.9693 - val_loss: 0.0750 - val_accuracy: 0.9814\n",
            "Epoch 5/5\n",
            "272/272 [==============================] - 2s 9ms/step - loss: 0.0964 - accuracy: 0.9775 - val_loss: 0.1041 - val_accuracy: 0.9783\n"
          ],
          "name": "stdout"
        }
      ]
    },
    {
      "cell_type": "code",
      "metadata": {
        "id": "PfR9l16qrdWP",
        "colab_type": "code",
        "colab": {
          "base_uri": "https://localhost:8080/",
          "height": 204
        },
        "outputId": "9e4403c4-caf4-4c30-b1e5-0d32b3f65a03"
      },
      "source": [
        "y_pred_prob = model_trained.predict(X_test)\n",
        "y_pred_prob[400]"
      ],
      "execution_count": 89,
      "outputs": [
        {
          "output_type": "execute_result",
          "data": {
            "text/plain": [
              "array([1.9642800e-02, 2.9004533e-03, 9.3141621e-01, 1.3976297e-07,\n",
              "       4.5985639e-02, 5.6622710e-08, 1.2428255e-12, 4.2619015e-09,\n",
              "       4.8562165e-10, 5.3057884e-05, 2.5570582e-08, 7.8337323e-11,\n",
              "       2.0948694e-13, 7.3083970e-09, 3.3965605e-10, 5.3236878e-08,\n",
              "       1.5177675e-06, 8.0007930e-21, 6.8427535e-16, 5.7886478e-27,\n",
              "       2.2098612e-16, 6.9334842e-12, 5.2107349e-25, 2.3134764e-17,\n",
              "       1.7951185e-23, 2.0468832e-14, 9.5054114e-15, 3.3932310e-22,\n",
              "       9.9086016e-15, 6.3328677e-21, 3.6432785e-16, 3.3808798e-14,\n",
              "       4.4579672e-16, 9.5746603e-16, 4.2394379e-23, 9.3473753e-15,\n",
              "       5.6055846e-20, 3.8521268e-29, 9.3355544e-28, 3.8084797e-23,\n",
              "       1.4579523e-30, 3.2411995e-18, 4.6388537e-19], dtype=float32)"
            ]
          },
          "metadata": {
            "tags": []
          },
          "execution_count": 89
        }
      ]
    },
    {
      "cell_type": "code",
      "metadata": {
        "id": "t6WJx6Gvr4LG",
        "colab_type": "code",
        "colab": {
          "base_uri": "https://localhost:8080/",
          "height": 283
        },
        "outputId": "68dc6272-3590-43a6-bc2c-55648fdc1d3c"
      },
      "source": [
        "plt.imshow(X_test[400])"
      ],
      "execution_count": 90,
      "outputs": [
        {
          "output_type": "execute_result",
          "data": {
            "text/plain": [
              "<matplotlib.image.AxesImage at 0x7f8d2b414a90>"
            ]
          },
          "metadata": {
            "tags": []
          },
          "execution_count": 90
        },
        {
          "output_type": "display_data",
          "data": {
            "image/png": "[encoded data removed]",
            "text/plain": [
              "<Figure size 432x288 with 1 Axes>"
            ]
          },
          "metadata": {
            "tags": [],
            "needs_background": "light"
          }
        }
      ]
    },
    {
      "cell_type": "code",
      "metadata": {
        "id": "xZmHOzU_sLpK",
        "colab_type": "code",
        "colab": {}
      },
      "source": [
        "df = pd.read_csv('signnames.csv')\n",
        "labels_dict = df.to_dict()['b']"
      ],
      "execution_count": 0,
      "outputs": []
    },
    {
      "cell_type": "code",
      "metadata": {
        "id": "S1NcQAf0sZQz",
        "colab_type": "code",
        "colab": {
          "base_uri": "https://localhost:8080/",
          "height": 34
        },
        "outputId": "27b51153-83e4-445e-9313-c2272ed21ba8"
      },
      "source": [
        "#Argmax returns index with the highest value\n",
        "labels_dict[ np.argmax( y_pred_prob[400] ) ]"
      ],
      "execution_count": 92,
      "outputs": [
        {
          "output_type": "execute_result",
          "data": {
            "text/plain": [
              "'Speed limit (50km/h)'"
            ]
          },
          "metadata": {
            "tags": []
          },
          "execution_count": 92
        }
      ]
    },
    {
      "cell_type": "code",
      "metadata": {
        "id": "apmXrsV_tTdh",
        "colab_type": "code",
        "colab": {
          "base_uri": "https://localhost:8080/",
          "height": 282
        },
        "outputId": "5960583c-e127-47ba-a929-694441c3e056"
      },
      "source": [
        "# Cat - visualization for index 400\n",
        "\n",
        "plt.bar(range(43), y_pred_prob[400])"
      ],
      "execution_count": 93,
      "outputs": [
        {
          "output_type": "execute_result",
          "data": {
            "text/plain": [
              "<BarContainer object of 43 artists>"
            ]
          },
          "metadata": {
            "tags": []
          },
          "execution_count": 93
        },
        {
          "output_type": "display_data",
          "data": {
            "image/png": "[encoded data removed]",
            "text/plain": [
              "<Figure size 432x288 with 1 Axes>"
            ]
          },
          "metadata": {
            "tags": [],
            "needs_background": "light"
          }
        }
      ]
    },
    {
      "cell_type": "code",
      "metadata": {
        "id": "GRCCbUVyt44z",
        "colab_type": "code",
        "colab": {
          "base_uri": "https://localhost:8080/",
          "height": 34
        },
        "outputId": "763114d8-a927-42be-e7c0-19c4fe510d9b"
      },
      "source": [
        "labels_dict[ 2 ] "
      ],
      "execution_count": 94,
      "outputs": [
        {
          "output_type": "execute_result",
          "data": {
            "text/plain": [
              "'Speed limit (50km/h)'"
            ]
          },
          "metadata": {
            "tags": []
          },
          "execution_count": 94
        }
      ]
    },
    {
      "cell_type": "code",
      "metadata": {
        "id": "BSIsdQEFuLAP",
        "colab_type": "code",
        "colab": {}
      },
      "source": [
        "#Axis 1 means we want to iterative throughout the whole matrix\n",
        "#Axis 0 would give us only one value\n",
        "\n",
        "\n",
        "def predict(model_trained, X_test, y_test, scoring=accuracy_score):\n",
        "\n",
        "  y_test_norm = np.argmax(y_test, axis = 1)\n",
        "\n",
        "  y_pred_prob = model_trained.predict(X_test)\n",
        "  y_pred = np.argmax( y_pred_prob, axis=1 )\n",
        "\n",
        "  return scoring(y_test_norm, y_pred)"
      ],
      "execution_count": 0,
      "outputs": []
    },
    {
      "cell_type": "code",
      "metadata": {
        "id": "zDddFRrPvrmW",
        "colab_type": "code",
        "colab": {
          "base_uri": "https://localhost:8080/",
          "height": 34
        },
        "outputId": "da66a753-8ca1-4364-85d7-01775327fbd3"
      },
      "source": [
        "predict(model_trained, X_test, y_test)"
      ],
      "execution_count": 96,
      "outputs": [
        {
          "output_type": "execute_result",
          "data": {
            "text/plain": [
              "0.819047619047619"
            ]
          },
          "metadata": {
            "tags": []
          },
          "execution_count": 96
        }
      ]
    },
    {
      "cell_type": "markdown",
      "metadata": {
        "id": "OUdRIlhGxLPy",
        "colab_type": "text"
      },
      "source": [
        "#Basic Model ~82%"
      ]
    },
    {
      "cell_type": "markdown",
      "metadata": {
        "id": "cvKy5OSZxCNI",
        "colab_type": "text"
      },
      "source": [
        "#Architecture Engineering"
      ]
    },
    {
      "cell_type": "code",
      "metadata": {
        "id": "iY8fM-Fgx_wk",
        "colab_type": "code",
        "colab": {}
      },
      "source": [
        "def train_and_predict (model):\n",
        "  model_trained = train_model(model, X_train, y_train )\n",
        "  return predict(model_trained, X_test, y_test)"
      ],
      "execution_count": 0,
      "outputs": []
    },
    {
      "cell_type": "code",
      "metadata": {
        "id": "WkBsHkqOwBAs",
        "colab_type": "code",
        "colab": {
          "base_uri": "https://localhost:8080/",
          "height": 224
        },
        "outputId": "247e3c80-11eb-4294-af71-ce763e6f240a"
      },
      "source": [
        "def get_cnn_v2(input_shape, num_classes):\n",
        "  return Sequential([\n",
        "    Conv2D(64, kernel_size=(3,3), activation='relu', input_shape=input_shape),\n",
        "    MaxPool2D(),\n",
        "    Dropout(0.3),\n",
        "\n",
        "    Flatten(),\n",
        "\n",
        "    Dense(1024, activation='relu'),\n",
        "    Dropout(0.3),\n",
        "    Dense(num_classes, activation='softmax'),\n",
        "\n",
        "])\n",
        "\n",
        "train_and_predict (get_cnn_v2(input_shape, num_classes) )"
      ],
      "execution_count": 98,
      "outputs": [
        {
          "output_type": "stream",
          "text": [
            "Epoch 1/5\n",
            "272/272 [==============================] - 4s 16ms/step - loss: 14.0436 - accuracy: 0.6911 - val_loss: 0.1945 - val_accuracy: 0.9547\n",
            "Epoch 2/5\n",
            "272/272 [==============================] - 4s 15ms/step - loss: 0.3662 - accuracy: 0.9082 - val_loss: 0.1227 - val_accuracy: 0.9757\n",
            "Epoch 3/5\n",
            "272/272 [==============================] - 4s 15ms/step - loss: 0.2573 - accuracy: 0.9362 - val_loss: 0.0641 - val_accuracy: 0.9864\n",
            "Epoch 4/5\n",
            "272/272 [==============================] - 4s 15ms/step - loss: 0.1930 - accuracy: 0.9511 - val_loss: 0.0628 - val_accuracy: 0.9888\n",
            "Epoch 5/5\n",
            "272/272 [==============================] - 4s 15ms/step - loss: 0.1949 - accuracy: 0.9516 - val_loss: 0.0593 - val_accuracy: 0.9863\n"
          ],
          "name": "stdout"
        },
        {
          "output_type": "execute_result",
          "data": {
            "text/plain": [
              "0.8149659863945579"
            ]
          },
          "metadata": {
            "tags": []
          },
          "execution_count": 98
        }
      ]
    },
    {
      "cell_type": "code",
      "metadata": {
        "id": "s_51jI2DxEHX",
        "colab_type": "code",
        "colab": {
          "base_uri": "https://localhost:8080/",
          "height": 224
        },
        "outputId": "b5bd9176-9d37-42f2-d5a2-1bde394b80d1"
      },
      "source": [
        "def get_cnn_v3(input_shape, num_classes):\n",
        "  return Sequential([\n",
        "    Conv2D(64, kernel_size=(3,3), activation='relu', input_shape=input_shape),\n",
        "    Conv2D(64, kernel_size=(3,3), activation='relu'),\n",
        "    MaxPool2D(),\n",
        "    Dropout(0.3),\n",
        "\n",
        "    Conv2D(64, kernel_size=(3,3), activation='relu', input_shape=input_shape),\n",
        "    Conv2D(64, kernel_size=(3,3), activation='relu' ),\n",
        "    MaxPool2D(),\n",
        "    Dropout(0.3),\n",
        "\n",
        "    Flatten(),\n",
        "\n",
        "    Dense(1024, activation='relu'),\n",
        "    Dropout(0.3),\n",
        "    Dense(num_classes, activation='softmax'),\n",
        "\n",
        "])\n",
        "\n",
        "train_and_predict (get_cnn_v3(input_shape, num_classes) )"
      ],
      "execution_count": 53,
      "outputs": [
        {
          "output_type": "stream",
          "text": [
            "Epoch 1/5\n",
            "272/272 [==============================] - 4s 15ms/step - loss: 2.0354 - accuracy: 0.5378 - val_loss: 0.2573 - val_accuracy: 0.9454\n",
            "Epoch 2/5\n",
            "272/272 [==============================] - 4s 14ms/step - loss: 0.4255 - accuracy: 0.8795 - val_loss: 0.0816 - val_accuracy: 0.9805\n",
            "Epoch 3/5\n",
            "272/272 [==============================] - 4s 14ms/step - loss: 0.2243 - accuracy: 0.9355 - val_loss: 0.0500 - val_accuracy: 0.9873\n",
            "Epoch 4/5\n",
            "272/272 [==============================] - 4s 15ms/step - loss: 0.1653 - accuracy: 0.9530 - val_loss: 0.0293 - val_accuracy: 0.9942\n",
            "Epoch 5/5\n",
            "272/272 [==============================] - 4s 15ms/step - loss: 0.1151 - accuracy: 0.9659 - val_loss: 0.0196 - val_accuracy: 0.9950\n"
          ],
          "name": "stdout"
        },
        {
          "output_type": "execute_result",
          "data": {
            "text/plain": [
              "0.9687074829931973"
            ]
          },
          "metadata": {
            "tags": []
          },
          "execution_count": 53
        }
      ]
    },
    {
      "cell_type": "code",
      "metadata": {
        "id": "1_cqqwzZzXyG",
        "colab_type": "code",
        "colab": {
          "base_uri": "https://localhost:8080/",
          "height": 224
        },
        "outputId": "c74236b5-bed2-419b-8f18-afda0f0d5b0f"
      },
      "source": [
        "def get_cnn_v4(input_shape, num_classes):\n",
        "  return Sequential([\n",
        "    Conv2D(64, kernel_size=(3,3), activation='relu', input_shape=input_shape, padding='same'),\n",
        "    Conv2D(64, kernel_size=(3,3), activation='relu'),\n",
        "    MaxPool2D(),\n",
        "    Dropout(0.3),\n",
        "\n",
        "    Conv2D(64, kernel_size=(3,3), activation='relu', padding='same'),\n",
        "    Conv2D(64, kernel_size=(3,3), activation='relu' ),\n",
        "    MaxPool2D(),\n",
        "    Dropout(0.3),\n",
        "\n",
        "    Conv2D(64, kernel_size=(3,3), activation='relu', padding='same'),\n",
        "    Conv2D(64, kernel_size=(3,3), activation='relu' ),\n",
        "    MaxPool2D(),\n",
        "    Dropout(0.3),\n",
        "\n",
        "    Flatten(),\n",
        "\n",
        "    Dense(1024, activation='relu'),\n",
        "    Dropout(0.3),\n",
        "    Dense(num_classes, activation='softmax'),\n",
        "\n",
        "])\n",
        "\n",
        "train_and_predict (get_cnn_v4(input_shape, num_classes) )"
      ],
      "execution_count": 54,
      "outputs": [
        {
          "output_type": "stream",
          "text": [
            "Epoch 1/5\n",
            "272/272 [==============================] - 5s 17ms/step - loss: 2.7448 - accuracy: 0.2715 - val_loss: 1.1134 - val_accuracy: 0.6618\n",
            "Epoch 2/5\n",
            "272/272 [==============================] - 4s 16ms/step - loss: 0.8686 - accuracy: 0.7286 - val_loss: 0.2474 - val_accuracy: 0.9319\n",
            "Epoch 3/5\n",
            "272/272 [==============================] - 4s 16ms/step - loss: 0.3763 - accuracy: 0.8878 - val_loss: 0.0817 - val_accuracy: 0.9773\n",
            "Epoch 4/5\n",
            "272/272 [==============================] - 4s 16ms/step - loss: 0.2272 - accuracy: 0.9318 - val_loss: 0.0551 - val_accuracy: 0.9848\n",
            "Epoch 5/5\n",
            "272/272 [==============================] - 4s 16ms/step - loss: 0.1787 - accuracy: 0.9485 - val_loss: 0.0319 - val_accuracy: 0.9914\n"
          ],
          "name": "stdout"
        },
        {
          "output_type": "execute_result",
          "data": {
            "text/plain": [
              "0.9718820861678005"
            ]
          },
          "metadata": {
            "tags": []
          },
          "execution_count": 54
        }
      ]
    },
    {
      "cell_type": "code",
      "metadata": {
        "id": "QgK6jfb_zxeD",
        "colab_type": "code",
        "colab": {
          "base_uri": "https://localhost:8080/",
          "height": 224
        },
        "outputId": "3824ba67-5784-4021-97b7-edcfb950a803"
      },
      "source": [
        "def get_cnn_v5(input_shape, num_classes):\n",
        "  return Sequential([\n",
        "    Conv2D(64, kernel_size=(3,3), activation='relu', input_shape=input_shape, padding='same'),\n",
        "    Conv2D(64, kernel_size=(3,3), activation='relu'),\n",
        "    MaxPool2D(),\n",
        "    Dropout(0.3),\n",
        "\n",
        "    Conv2D(64, kernel_size=(3,3), activation='relu', padding='same'),\n",
        "    Conv2D(64, kernel_size=(3,3), activation='relu' ),\n",
        "    MaxPool2D(),\n",
        "    Dropout(0.3),\n",
        "\n",
        "    Conv2D(64, kernel_size=(3,3), activation='relu', padding='same'),\n",
        "    Conv2D(64, kernel_size=(3,3), activation='relu' ),\n",
        "    MaxPool2D(),\n",
        "    Dropout(0.3),\n",
        "\n",
        "    Flatten(),\n",
        "\n",
        "    Dense(1024, activation='relu'),\n",
        "    Dropout(0.3),\n",
        "\n",
        "    Dense(1024, activation='relu'),\n",
        "    Dropout(0.3),\n",
        "    \n",
        "    Dense(num_classes, activation='softmax'),\n",
        "\n",
        "])\n",
        "\n",
        "train_and_predict (get_cnn_v5(input_shape, num_classes) )"
      ],
      "execution_count": 99,
      "outputs": [
        {
          "output_type": "stream",
          "text": [
            "Epoch 1/5\n",
            "272/272 [==============================] - 5s 18ms/step - loss: 2.6148 - accuracy: 0.2684 - val_loss: 1.3913 - val_accuracy: 0.5451\n",
            "Epoch 2/5\n",
            "272/272 [==============================] - 5s 17ms/step - loss: 1.0757 - accuracy: 0.6402 - val_loss: 0.3501 - val_accuracy: 0.8800\n",
            "Epoch 3/5\n",
            "272/272 [==============================] - 5s 17ms/step - loss: 0.4722 - accuracy: 0.8462 - val_loss: 0.1401 - val_accuracy: 0.9600\n",
            "Epoch 4/5\n",
            "272/272 [==============================] - 5s 17ms/step - loss: 0.2947 - accuracy: 0.9100 - val_loss: 0.0907 - val_accuracy: 0.9723\n",
            "Epoch 5/5\n",
            "272/272 [==============================] - 5s 17ms/step - loss: 0.2158 - accuracy: 0.9356 - val_loss: 0.0440 - val_accuracy: 0.9859\n"
          ],
          "name": "stdout"
        },
        {
          "output_type": "execute_result",
          "data": {
            "text/plain": [
              "0.9712018140589569"
            ]
          },
          "metadata": {
            "tags": []
          },
          "execution_count": 99
        }
      ]
    },
    {
      "cell_type": "markdown",
      "metadata": {
        "id": "FTF-jV6g0Q9z",
        "colab_type": "text"
      },
      "source": [
        "#Decreasing the total number of parameters by reducing RGB dimension (to 1 = gray)"
      ]
    },
    {
      "cell_type": "code",
      "metadata": {
        "id": "gD_TYmYl0Goz",
        "colab_type": "code",
        "colab": {
          "base_uri": "https://localhost:8080/",
          "height": 34
        },
        "outputId": "89cfada0-92e5-4886-8f18-21b097c1aa8d"
      },
      "source": [
        "color.rgb2gray( X_train[0] ).shape"
      ],
      "execution_count": 100,
      "outputs": [
        {
          "output_type": "execute_result",
          "data": {
            "text/plain": [
              "(32, 32)"
            ]
          },
          "metadata": {
            "tags": []
          },
          "execution_count": 100
        }
      ]
    },
    {
      "cell_type": "code",
      "metadata": {
        "id": "KXoEKeaQ0R_x",
        "colab_type": "code",
        "colab": {
          "base_uri": "https://localhost:8080/",
          "height": 283
        },
        "outputId": "59f83843-cb7d-4606-d696-3ae3106bc98e"
      },
      "source": [
        "plt.imshow( color.rgb2gray( X_train[0] ) )"
      ],
      "execution_count": 101,
      "outputs": [
        {
          "output_type": "execute_result",
          "data": {
            "text/plain": [
              "<matplotlib.image.AxesImage at 0x7f8d08cc2630>"
            ]
          },
          "metadata": {
            "tags": []
          },
          "execution_count": 101
        },
        {
          "output_type": "display_data",
          "data": {
            "image/png": "[encoded data removed]",
            "text/plain": [
              "<Figure size 432x288 with 1 Axes>"
            ]
          },
          "metadata": {
            "tags": [],
            "needs_background": "light"
          }
        }
      ]
    },
    {
      "cell_type": "code",
      "metadata": {
        "id": "Tay53qDw0vFI",
        "colab_type": "code",
        "colab": {
          "base_uri": "https://localhost:8080/",
          "height": 283
        },
        "outputId": "338600e5-73c8-442c-8a45-e7f2e240e5a2"
      },
      "source": [
        "plt.imshow( color.rgb2gray( X_train[0] ), cmap=plt.get_cmap('gray') )"
      ],
      "execution_count": 102,
      "outputs": [
        {
          "output_type": "execute_result",
          "data": {
            "text/plain": [
              "<matplotlib.image.AxesImage at 0x7f8d09758d30>"
            ]
          },
          "metadata": {
            "tags": []
          },
          "execution_count": 102
        },
        {
          "output_type": "display_data",
          "data": {
            "image/png": "[encoded data removed]",
            "text/plain": [
              "<Figure size 432x288 with 1 Axes>"
            ]
          },
          "metadata": {
            "tags": [],
            "needs_background": "light"
          }
        }
      ]
    },
    {
      "cell_type": "code",
      "metadata": {
        "id": "m0qtDyUT1-o6",
        "colab_type": "code",
        "colab": {}
      },
      "source": [
        "#Shape return only a size of a matrix, if we need only a matrix then don't use it \n",
        "\n",
        "X_train_gray = color.rgb2gray( X_train )\n",
        "X_test_gray = color.rgb2gray( X_test )"
      ],
      "execution_count": 0,
      "outputs": []
    },
    {
      "cell_type": "code",
      "metadata": {
        "id": "61cpyvBQ36BM",
        "colab_type": "code",
        "colab": {
          "base_uri": "https://localhost:8080/",
          "height": 34
        },
        "outputId": "0e861006-64f6-4707-86dd-3a540ae147c2"
      },
      "source": [
        "#Previously we had 3 dimensions so now we have to reshape it\n",
        "\n",
        "input_shape"
      ],
      "execution_count": 104,
      "outputs": [
        {
          "output_type": "execute_result",
          "data": {
            "text/plain": [
              "(32, 32, 3)"
            ]
          },
          "metadata": {
            "tags": []
          },
          "execution_count": 104
        }
      ]
    },
    {
      "cell_type": "code",
      "metadata": {
        "id": "HAdn9jsG4QKO",
        "colab_type": "code",
        "colab": {
          "base_uri": "https://localhost:8080/",
          "height": 34
        },
        "outputId": "f810814a-7f19-4c37-ba2d-a01809d69487"
      },
      "source": [
        "X_train_gray.reshape(-1,32,32, 1).shape"
      ],
      "execution_count": 105,
      "outputs": [
        {
          "output_type": "execute_result",
          "data": {
            "text/plain": [
              "(34799, 32, 32, 1)"
            ]
          },
          "metadata": {
            "tags": []
          },
          "execution_count": 105
        }
      ]
    },
    {
      "cell_type": "code",
      "metadata": {
        "id": "BpnHcswq40j3",
        "colab_type": "code",
        "colab": {}
      },
      "source": [
        "X_train_gray = color.rgb2gray( X_train ).reshape(-1,32,32, 1)\n",
        "X_test_gray = color.rgb2gray( X_test ).reshape(-1,32,32, 1)"
      ],
      "execution_count": 0,
      "outputs": []
    },
    {
      "cell_type": "markdown",
      "metadata": {
        "id": "b2YTIs8r2rCa",
        "colab_type": "text"
      },
      "source": [
        "We will use v5 with gray images"
      ]
    },
    {
      "cell_type": "code",
      "metadata": {
        "id": "96zs09qf2ijH",
        "colab_type": "code",
        "colab": {
          "base_uri": "https://localhost:8080/",
          "height": 224
        },
        "outputId": "58057f42-3014-4f59-f965-cc4bcc2de1af"
      },
      "source": [
        "model = get_cnn_v5( (32,32,1 ), num_classes)\n",
        "model_trained = train_model(model, X_train_gray, y_train, params_fit={})\n",
        "predict(model_trained, X_test_gray, y_test)"
      ],
      "execution_count": 108,
      "outputs": [
        {
          "output_type": "stream",
          "text": [
            "Epoch 1/5\n",
            "272/272 [==============================] - 5s 18ms/step - loss: 3.0873 - accuracy: 0.1579 - val_loss: 1.1404 - val_accuracy: 0.6325\n",
            "Epoch 2/5\n",
            "272/272 [==============================] - 5s 17ms/step - loss: 0.7047 - accuracy: 0.7695 - val_loss: 0.1430 - val_accuracy: 0.9599\n",
            "Epoch 3/5\n",
            "272/272 [==============================] - 5s 17ms/step - loss: 0.2521 - accuracy: 0.9193 - val_loss: 0.0666 - val_accuracy: 0.9788\n",
            "Epoch 4/5\n",
            "272/272 [==============================] - 5s 17ms/step - loss: 0.1651 - accuracy: 0.9478 - val_loss: 0.0324 - val_accuracy: 0.9910\n",
            "Epoch 5/5\n",
            "272/272 [==============================] - 5s 17ms/step - loss: 0.1214 - accuracy: 0.9614 - val_loss: 0.0218 - val_accuracy: 0.9934\n"
          ],
          "name": "stdout"
        },
        {
          "output_type": "execute_result",
          "data": {
            "text/plain": [
              "0.9655328798185941"
            ]
          },
          "metadata": {
            "tags": []
          },
          "execution_count": 108
        }
      ]
    },
    {
      "cell_type": "markdown",
      "metadata": {
        "id": "peXPf2796gU8",
        "colab_type": "text"
      },
      "source": [
        "# Final score 1 RGB ~96%\n",
        "\n",
        "3RGB achieved 97%\n"
      ]
    },
    {
      "cell_type": "code",
      "metadata": {
        "id": "40GROtSe7GJs",
        "colab_type": "code",
        "colab": {}
      },
      "source": [
        ""
      ],
      "execution_count": 0,
      "outputs": []
    },
    {
      "cell_type": "markdown",
      "metadata": {
        "id": "mgaR3Dn87aP5",
        "colab_type": "text"
      },
      "source": [
        "How does the image look like before and after changes?"
      ]
    },
    {
      "cell_type": "code",
      "metadata": {
        "id": "GA1VeGHC7deF",
        "colab_type": "code",
        "colab": {}
      },
      "source": [
        "def preproc_img(img):\n",
        "  hsv = color.rgb2hsv(img)\n",
        "  hsv[:, :, 2] = exposure.equalize_adapthist(hsv[:, :, 2])\n",
        "  img = color.hsv2rgb(hsv)\n",
        "\n",
        "  return img"
      ],
      "execution_count": 0,
      "outputs": []
    },
    {
      "cell_type": "code",
      "metadata": {
        "id": "1hN_1oxk8Hx9",
        "colab_type": "code",
        "colab": {
          "base_uri": "https://localhost:8080/",
          "height": 283
        },
        "outputId": "f2803b27-9329-4437-f6b8-05b97f488e7a"
      },
      "source": [
        "#BEFORE\n",
        "plt.imshow(X_train[400] )"
      ],
      "execution_count": 113,
      "outputs": [
        {
          "output_type": "execute_result",
          "data": {
            "text/plain": [
              "<matplotlib.image.AxesImage at 0x7f8d0a27b358>"
            ]
          },
          "metadata": {
            "tags": []
          },
          "execution_count": 113
        },
        {
          "output_type": "display_data",
          "data": {
            "image/png": "[encoded data removed]",
            "text/plain": [
              "<Figure size 432x288 with 1 Axes>"
            ]
          },
          "metadata": {
            "tags": [],
            "needs_background": "light"
          }
        }
      ]
    },
    {
      "cell_type": "code",
      "metadata": {
        "id": "3iN5gg5j7ynt",
        "colab_type": "code",
        "colab": {
          "base_uri": "https://localhost:8080/",
          "height": 283
        },
        "outputId": "eade8b42-f674-4348-b35e-05e34dacaf32"
      },
      "source": [
        "#AFTER\n",
        "plt.imshow( preproc_img(X_train[400]))"
      ],
      "execution_count": 114,
      "outputs": [
        {
          "output_type": "execute_result",
          "data": {
            "text/plain": [
              "<matplotlib.image.AxesImage at 0x7f8d0a2517f0>"
            ]
          },
          "metadata": {
            "tags": []
          },
          "execution_count": 114
        },
        {
          "output_type": "display_data",
          "data": {
            "image/png": "[encoded data removed]",
            "text/plain": [
              "<Figure size 432x288 with 1 Axes>"
            ]
          },
          "metadata": {
            "tags": [],
            "needs_background": "light"
          }
        }
      ]
    },
    {
      "cell_type": "code",
      "metadata": {
        "id": "d4s65jmd8D-R",
        "colab_type": "code",
        "colab": {}
      },
      "source": [
        ""
      ],
      "execution_count": 0,
      "outputs": []
    }
  ]
}